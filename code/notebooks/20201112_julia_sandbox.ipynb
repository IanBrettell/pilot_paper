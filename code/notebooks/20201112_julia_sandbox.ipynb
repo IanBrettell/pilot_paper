{
 "cells": [
  {
   "cell_type": "markdown",
   "metadata": {},
   "source": [
    "# Julia setup"
   ]
  },
  {
   "cell_type": "code",
   "execution_count": 4,
   "metadata": {},
   "outputs": [],
   "source": [
    "# bash: \n",
    "conda create -n julia_env\n",
    "conda activate julia_env\n",
    "julia"
   ]
  },
  {
   "cell_type": "code",
   "execution_count": null,
   "metadata": {},
   "outputs": [],
   "source": [
    "# Julia\n",
    "using Pkg\n",
    "Pkg.add(\"IJulia\")\n",
    "# Exit Julia"
   ]
  },
  {
   "cell_type": "code",
   "execution_count": null,
   "metadata": {},
   "outputs": [],
   "source": [
    "# Start jupyter lab \n",
    "jupyter lab   "
   ]
  },
  {
   "cell_type": "code",
   "execution_count": 2,
   "metadata": {},
   "outputs": [
    {
     "name": "stdout",
     "output_type": "stream",
     "text": [
      "hello world!"
     ]
    }
   ],
   "source": [
    "print(\"hello world!\")"
   ]
  },
  {
   "cell_type": "markdown",
   "metadata": {},
   "source": []
  },
  {
   "cell_type": "code",
   "execution_count": 2,
   "metadata": {},
   "outputs": [
    {
     "ename": "MethodError",
     "evalue": "MethodError: no method matching add_or_develop(::String, ::String; mode=:add)\nClosest candidates are:\n  add_or_develop(::Union{AbstractString, PackageSpec}; kwargs...) at /Users/runner/miniforge3/conda-bld/julia_1602951703647/work/usr/share/julia/stdlib/v1.1/Pkg/src/API.jl:33",
     "output_type": "error",
     "traceback": [
      "MethodError: no method matching add_or_develop(::String, ::String; mode=:add)\nClosest candidates are:\n  add_or_develop(::Union{AbstractString, PackageSpec}; kwargs...) at /Users/runner/miniforge3/conda-bld/julia_1602951703647/work/usr/share/julia/stdlib/v1.1/Pkg/src/API.jl:33",
      "",
      "Stacktrace:",
      " [1] #add#22(::Base.Iterators.Pairs{Union{},Union{},Tuple{},NamedTuple{(),Tuple{}}}, ::Function, ::String, ::Vararg{String,N} where N) at /Users/runner/miniforge3/conda-bld/julia_1602951703647/work/usr/share/julia/stdlib/v1.1/Pkg/src/API.jl:64",
      " [2] add(::String, ::Vararg{String,N} where N) at /Users/runner/miniforge3/conda-bld/julia_1602951703647/work/usr/share/julia/stdlib/v1.1/Pkg/src/API.jl:64",
      " [3] top-level scope at In[2]:2"
     ]
    }
   ],
   "source": [
    "using Pkg\n",
    "Pkg.add(\"DataFrames\", \"DataFramesMeta\")"
   ]
  },
  {
   "cell_type": "code",
   "execution_count": null,
   "metadata": {},
   "outputs": [],
   "source": [
    "# Read in data frame\n",
    "using DataFrames\n",
    "df"
   ]
  }
 ],
 "metadata": {
  "kernelspec": {
   "display_name": "Julia 1.1.1",
   "language": "julia",
   "name": "julia-1.1"
  },
  "language_info": {
   "file_extension": ".jl",
   "mimetype": "application/julia",
   "name": "julia",
   "version": "1.1.1"
  }
 },
 "nbformat": 4,
 "nbformat_minor": 4
}
