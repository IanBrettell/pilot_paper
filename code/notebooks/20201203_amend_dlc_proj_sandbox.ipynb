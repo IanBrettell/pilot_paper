{
 "cells": [
  {
   "cell_type": "code",
   "execution_count": 557,
   "metadata": {},
   "outputs": [],
   "source": [
    "# Import libraries"
   ]
  },
  {
   "cell_type": "code",
   "execution_count": 585,
   "metadata": {},
   "outputs": [],
   "source": [
    "import pandas as pd\n",
    "import os"
   ]
  },
  {
   "cell_type": "markdown",
   "metadata": {},
   "source": [
    "# Find columns with all NaN"
   ]
  },
  {
   "cell_type": "code",
   "execution_count": 560,
   "metadata": {},
   "outputs": [],
   "source": [
    "test_lines = ['icab_b', 'hni', 'kaga', 'hdrr', 'ho5', 'mikk_a', 'mikk_b']"
   ]
  },
  {
   "cell_type": "code",
   "execution_count": 561,
   "metadata": {},
   "outputs": [
    {
     "data": {
      "text/plain": [
       "True"
      ]
     },
     "execution_count": 561,
     "metadata": {},
     "output_type": "execute_result"
    }
   ],
   "source": [
    "pd.isnull(file['ian_brettell'][line]).all().all()"
   ]
  },
  {
   "cell_type": "code",
   "execution_count": 562,
   "metadata": {},
   "outputs": [
    {
     "data": {
      "text/plain": [
       "['icab_b', 'hni', 'kaga', 'hdrr', 'ho5', 'mikk_a', 'mikk_b']"
      ]
     },
     "execution_count": 562,
     "metadata": {},
     "output_type": "execute_result"
    }
   ],
   "source": [
    "test_lines"
   ]
  },
  {
   "cell_type": "code",
   "execution_count": 563,
   "metadata": {},
   "outputs": [],
   "source": [
    "lines_to_drop = []\n",
    "for line in test_lines:\n",
    "    if pd.isnull(file['ian_brettell'][line]).all().all():\n",
    "        lines_to_drop.append(line)    "
   ]
  },
  {
   "cell_type": "code",
   "execution_count": 564,
   "metadata": {},
   "outputs": [
    {
     "data": {
      "text/plain": [
       "['icab_b', 'hni', 'kaga', 'ho5', 'mikk_a', 'mikk_b']"
      ]
     },
     "execution_count": 564,
     "metadata": {},
     "output_type": "execute_result"
    }
   ],
   "source": [
    "lines_to_drop"
   ]
  },
  {
   "cell_type": "code",
   "execution_count": 565,
   "metadata": {},
   "outputs": [],
   "source": [
    "file.drop(columns = lines_to_drop, level = 1, inplace = True)"
   ]
  },
  {
   "cell_type": "markdown",
   "metadata": {},
   "source": [
    "## Rename columns"
   ]
  },
  {
   "cell_type": "code",
   "execution_count": 566,
   "metadata": {},
   "outputs": [],
   "source": [
    "pairs = [['icab_a', 'ref'], ['icab_b', 'test'], ['hni', 'test'], ['kaga', 'test'], ['hdrr', 'test'], ['ho5', 'test'], ['mikk_a', 'test'], ['mikk_b', 'test']]"
   ]
  },
  {
   "cell_type": "code",
   "execution_count": 567,
   "metadata": {
    "scrolled": true
   },
   "outputs": [],
   "source": [
    "dict_ = {k: v for k, v in pairs}"
   ]
  },
  {
   "cell_type": "code",
   "execution_count": 568,
   "metadata": {},
   "outputs": [
    {
     "data": {
      "text/plain": [
       "{'icab_a': 'ref',\n",
       " 'icab_b': 'test',\n",
       " 'hni': 'test',\n",
       " 'kaga': 'test',\n",
       " 'hdrr': 'test',\n",
       " 'ho5': 'test',\n",
       " 'mikk_a': 'test',\n",
       " 'mikk_b': 'test'}"
      ]
     },
     "execution_count": 568,
     "metadata": {},
     "output_type": "execute_result"
    }
   ],
   "source": [
    "dict_"
   ]
  },
  {
   "cell_type": "code",
   "execution_count": 569,
   "metadata": {},
   "outputs": [],
   "source": [
    "file.rename(dict_, level=\"individuals\", axis=1, inplace=True)"
   ]
  },
  {
   "cell_type": "code",
   "execution_count": 586,
   "metadata": {},
   "outputs": [],
   "source": [
    "os.remove(in_file)"
   ]
  },
  {
   "cell_type": "code",
   "execution_count": 587,
   "metadata": {},
   "outputs": [],
   "source": [
    "file.to_hdf(in_file, key=\"df_with_missing\", mode='w')"
   ]
  },
  {
   "cell_type": "code",
   "execution_count": 582,
   "metadata": {},
   "outputs": [],
   "source": [
    "file.to_hdf?"
   ]
  },
  {
   "cell_type": "code",
   "execution_count": 580,
   "metadata": {},
   "outputs": [],
   "source": [
    "pd.read_hdf?"
   ]
  },
  {
   "cell_type": "markdown",
   "metadata": {},
   "source": [
    "# Read in and make new lists of videos to analyse"
   ]
  },
  {
   "cell_type": "markdown",
   "metadata": {},
   "source": [
    "## 8 December 2020"
   ]
  },
  {
   "cell_type": "code",
   "execution_count": 32,
   "metadata": {},
   "outputs": [],
   "source": [
    "import pandas as pd\n",
    "# Read in data\n",
    "df = pd.read_csv('/Users/brettell/Documents/Repositories/pilot_paper/data/20201208_analysed_samples.csv')"
   ]
  },
  {
   "cell_type": "code",
   "execution_count": 33,
   "metadata": {},
   "outputs": [
    {
     "data": {
      "text/html": [
       "<div>\n",
       "<style scoped>\n",
       "    .dataframe tbody tr th:only-of-type {\n",
       "        vertical-align: middle;\n",
       "    }\n",
       "\n",
       "    .dataframe tbody tr th {\n",
       "        vertical-align: top;\n",
       "    }\n",
       "\n",
       "    .dataframe thead th {\n",
       "        text-align: right;\n",
       "    }\n",
       "</style>\n",
       "<table border=\"1\" class=\"dataframe\">\n",
       "  <thead>\n",
       "    <tr style=\"text-align: right;\">\n",
       "      <th></th>\n",
       "      <th>sample</th>\n",
       "      <th>current</th>\n",
       "      <th>analysed</th>\n",
       "      <th>tracklets</th>\n",
       "      <th>needs another analysis</th>\n",
       "      <th>completed</th>\n",
       "    </tr>\n",
       "  </thead>\n",
       "  <tbody>\n",
       "    <tr>\n",
       "      <th>0</th>\n",
       "      <td>20190611_1331_icab_icab_R_q1_novel_object</td>\n",
       "      <td>NaN</td>\n",
       "      <td>NaN</td>\n",
       "      <td>NaN</td>\n",
       "      <td>NaN</td>\n",
       "      <td>NaN</td>\n",
       "    </tr>\n",
       "    <tr>\n",
       "      <th>1</th>\n",
       "      <td>20190611_1331_icab_icab_R_q1_open_field</td>\n",
       "      <td>NaN</td>\n",
       "      <td>NaN</td>\n",
       "      <td>NaN</td>\n",
       "      <td>NaN</td>\n",
       "      <td>NaN</td>\n",
       "    </tr>\n",
       "    <tr>\n",
       "      <th>2</th>\n",
       "      <td>20190611_1331_icab_icab_R_q2_novel_object</td>\n",
       "      <td>NaN</td>\n",
       "      <td>NaN</td>\n",
       "      <td>NaN</td>\n",
       "      <td>NaN</td>\n",
       "      <td>NaN</td>\n",
       "    </tr>\n",
       "    <tr>\n",
       "      <th>3</th>\n",
       "      <td>20190611_1331_icab_icab_R_q2_open_field</td>\n",
       "      <td>NaN</td>\n",
       "      <td>NaN</td>\n",
       "      <td>NaN</td>\n",
       "      <td>NaN</td>\n",
       "      <td>NaN</td>\n",
       "    </tr>\n",
       "    <tr>\n",
       "      <th>4</th>\n",
       "      <td>20190611_1331_icab_icab_R_q3_novel_object</td>\n",
       "      <td>NaN</td>\n",
       "      <td>NaN</td>\n",
       "      <td>NaN</td>\n",
       "      <td>NaN</td>\n",
       "      <td>NaN</td>\n",
       "    </tr>\n",
       "  </tbody>\n",
       "</table>\n",
       "</div>"
      ],
      "text/plain": [
       "                                      sample current analysed tracklets  \\\n",
       "0  20190611_1331_icab_icab_R_q1_novel_object     NaN      NaN       NaN   \n",
       "1    20190611_1331_icab_icab_R_q1_open_field     NaN      NaN       NaN   \n",
       "2  20190611_1331_icab_icab_R_q2_novel_object     NaN      NaN       NaN   \n",
       "3    20190611_1331_icab_icab_R_q2_open_field     NaN      NaN       NaN   \n",
       "4  20190611_1331_icab_icab_R_q3_novel_object     NaN      NaN       NaN   \n",
       "\n",
       "  needs another analysis completed  \n",
       "0                    NaN       NaN  \n",
       "1                    NaN       NaN  \n",
       "2                    NaN       NaN  \n",
       "3                    NaN       NaN  \n",
       "4                    NaN       NaN  "
      ]
     },
     "execution_count": 33,
     "metadata": {},
     "output_type": "execute_result"
    }
   ],
   "source": [
    "df.head()"
   ]
  },
  {
   "cell_type": "code",
   "execution_count": 34,
   "metadata": {},
   "outputs": [
    {
     "data": {
      "text/plain": [
       "(616, 6)"
      ]
     },
     "execution_count": 34,
     "metadata": {},
     "output_type": "execute_result"
    }
   ],
   "source": [
    "df.shape"
   ]
  },
  {
   "cell_type": "code",
   "execution_count": 35,
   "metadata": {},
   "outputs": [],
   "source": [
    "# get completed rows\n",
    "completed = df[\"completed\"] == \"yes\""
   ]
  },
  {
   "cell_type": "code",
   "execution_count": 36,
   "metadata": {},
   "outputs": [
    {
     "data": {
      "text/plain": [
       "array([nan, 'yes'], dtype=object)"
      ]
     },
     "execution_count": 36,
     "metadata": {},
     "output_type": "execute_result"
    }
   ],
   "source": [
    "df[\"completed\"].unique()"
   ]
  },
  {
   "cell_type": "code",
   "execution_count": 37,
   "metadata": {},
   "outputs": [
    {
     "data": {
      "text/plain": [
       "0      False\n",
       "1      False\n",
       "2      False\n",
       "3      False\n",
       "4      False\n",
       "       ...  \n",
       "611    False\n",
       "612    False\n",
       "613    False\n",
       "614    False\n",
       "615    False\n",
       "Name: completed, Length: 616, dtype: bool"
      ]
     },
     "execution_count": 37,
     "metadata": {},
     "output_type": "execute_result"
    }
   ],
   "source": [
    "df[\"completed\"] == \"yes\""
   ]
  },
  {
   "cell_type": "code",
   "execution_count": 38,
   "metadata": {},
   "outputs": [
    {
     "data": {
      "text/html": [
       "<div>\n",
       "<style scoped>\n",
       "    .dataframe tbody tr th:only-of-type {\n",
       "        vertical-align: middle;\n",
       "    }\n",
       "\n",
       "    .dataframe tbody tr th {\n",
       "        vertical-align: top;\n",
       "    }\n",
       "\n",
       "    .dataframe thead th {\n",
       "        text-align: right;\n",
       "    }\n",
       "</style>\n",
       "<table border=\"1\" class=\"dataframe\">\n",
       "  <thead>\n",
       "    <tr style=\"text-align: right;\">\n",
       "      <th></th>\n",
       "      <th>sample</th>\n",
       "      <th>current</th>\n",
       "      <th>analysed</th>\n",
       "      <th>tracklets</th>\n",
       "      <th>needs another analysis</th>\n",
       "      <th>completed</th>\n",
       "    </tr>\n",
       "  </thead>\n",
       "  <tbody>\n",
       "    <tr>\n",
       "      <th>163</th>\n",
       "      <td>20190613_1054_icab_hdr_R_q2_open_field</td>\n",
       "      <td>NaN</td>\n",
       "      <td>yes</td>\n",
       "      <td>yes</td>\n",
       "      <td>NaN</td>\n",
       "      <td>yes</td>\n",
       "    </tr>\n",
       "    <tr>\n",
       "      <th>247</th>\n",
       "      <td>20190614_1139_icab_hni_R_q4_open_field</td>\n",
       "      <td>yes</td>\n",
       "      <td>yes</td>\n",
       "      <td>NaN</td>\n",
       "      <td>yes</td>\n",
       "      <td>yes</td>\n",
       "    </tr>\n",
       "  </tbody>\n",
       "</table>\n",
       "</div>"
      ],
      "text/plain": [
       "                                     sample current analysed tracklets  \\\n",
       "163  20190613_1054_icab_hdr_R_q2_open_field     NaN      yes       yes   \n",
       "247  20190614_1139_icab_hni_R_q4_open_field     yes      yes       NaN   \n",
       "\n",
       "    needs another analysis completed  \n",
       "163                    NaN       yes  \n",
       "247                    yes       yes  "
      ]
     },
     "execution_count": 38,
     "metadata": {},
     "output_type": "execute_result"
    }
   ],
   "source": [
    "# Get equal\n",
    "df[df.completed.eq(\"yes\")]"
   ]
  },
  {
   "cell_type": "code",
   "execution_count": 42,
   "metadata": {},
   "outputs": [
    {
     "data": {
      "text/plain": [
       "0      20190611_1331_icab_icab_R_q1_novel_object\n",
       "1        20190611_1331_icab_icab_R_q1_open_field\n",
       "2      20190611_1331_icab_icab_R_q2_novel_object\n",
       "3        20190611_1331_icab_icab_R_q2_open_field\n",
       "4      20190611_1331_icab_icab_R_q3_novel_object\n",
       "                         ...                    \n",
       "611      20190616_1717_icab_icab_L_q2_open_field\n",
       "612    20190616_1717_icab_icab_L_q3_novel_object\n",
       "613      20190616_1717_icab_icab_L_q3_open_field\n",
       "614    20190616_1717_icab_icab_L_q4_novel_object\n",
       "615      20190616_1717_icab_icab_L_q4_open_field\n",
       "Name: sample, Length: 614, dtype: object"
      ]
     },
     "execution_count": 42,
     "metadata": {},
     "output_type": "execute_result"
    }
   ],
   "source": [
    "# Get not-equal\n",
    "samples = df.loc[df['completed'] != \"yes\", \"sample\"]\n",
    "samples"
   ]
  },
  {
   "cell_type": "code",
   "execution_count": 43,
   "metadata": {},
   "outputs": [],
   "source": [
    "# Write to file\n",
    "samples.to_csv('/Users/brettell/Documents/Repositories/pilot_paper/data/samples_to_analyse.csv')"
   ]
  },
  {
   "cell_type": "markdown",
   "metadata": {},
   "source": [
    "# 20201218 amend samples file"
   ]
  },
  {
   "cell_type": "code",
   "execution_count": 3,
   "metadata": {},
   "outputs": [],
   "source": [
    "import pandas as pd\n",
    "import os"
   ]
  },
  {
   "cell_type": "code",
   "execution_count": 7,
   "metadata": {},
   "outputs": [
    {
     "data": {
      "text/plain": [
       "'/Users/brettell/Documents/Repositories/pilot_paper/code/notebooks'"
      ]
     },
     "execution_count": 7,
     "metadata": {},
     "output_type": "execute_result"
    }
   ],
   "source": [
    "os.getcwd()"
   ]
  },
  {
   "cell_type": "code",
   "execution_count": 13,
   "metadata": {},
   "outputs": [],
   "source": [
    "# Read in data\n",
    "df = pd.read_csv('/Users/brettell/Documents/Repositories/pilot_paper/code/snakemake/config/samples.csv',comment=\"#\")"
   ]
  },
  {
   "cell_type": "code",
   "execution_count": 14,
   "metadata": {},
   "outputs": [
    {
     "data": {
      "text/html": [
       "<div>\n",
       "<style scoped>\n",
       "    .dataframe tbody tr th:only-of-type {\n",
       "        vertical-align: middle;\n",
       "    }\n",
       "\n",
       "    .dataframe tbody tr th {\n",
       "        vertical-align: top;\n",
       "    }\n",
       "\n",
       "    .dataframe thead th {\n",
       "        text-align: right;\n",
       "    }\n",
       "</style>\n",
       "<table border=\"1\" class=\"dataframe\">\n",
       "  <thead>\n",
       "    <tr style=\"text-align: right;\">\n",
       "      <th></th>\n",
       "      <th>sample</th>\n",
       "      <th>date</th>\n",
       "      <th>time</th>\n",
       "      <th>tank_side</th>\n",
       "      <th>of_start</th>\n",
       "      <th>of_end</th>\n",
       "      <th>no_start</th>\n",
       "      <th>no_end</th>\n",
       "      <th>fps</th>\n",
       "      <th>adj_top</th>\n",
       "      <th>adj_bottom</th>\n",
       "      <th>adj_left</th>\n",
       "      <th>adj_right</th>\n",
       "    </tr>\n",
       "  </thead>\n",
       "  <tbody>\n",
       "    <tr>\n",
       "      <th>0</th>\n",
       "      <td>20190611_1331_icab_icab_R</td>\n",
       "      <td>20190611</td>\n",
       "      <td>1331</td>\n",
       "      <td>R</td>\n",
       "      <td>1723</td>\n",
       "      <td>20000</td>\n",
       "      <td>20892</td>\n",
       "      <td>39458</td>\n",
       "      <td>30</td>\n",
       "      <td>0</td>\n",
       "      <td>5</td>\n",
       "      <td>5</td>\n",
       "      <td>10</td>\n",
       "    </tr>\n",
       "    <tr>\n",
       "      <th>1</th>\n",
       "      <td>20190611_1410_icab_kaga_R</td>\n",
       "      <td>20190611</td>\n",
       "      <td>1410</td>\n",
       "      <td>R</td>\n",
       "      <td>2380</td>\n",
       "      <td>21791</td>\n",
       "      <td>22584</td>\n",
       "      <td>42226</td>\n",
       "      <td>30</td>\n",
       "      <td>0</td>\n",
       "      <td>5</td>\n",
       "      <td>5</td>\n",
       "      <td>10</td>\n",
       "    </tr>\n",
       "    <tr>\n",
       "      <th>2</th>\n",
       "      <td>20190611_1454_icab_hni_R</td>\n",
       "      <td>20190611</td>\n",
       "      <td>1454</td>\n",
       "      <td>R</td>\n",
       "      <td>2815</td>\n",
       "      <td>21698</td>\n",
       "      <td>22351</td>\n",
       "      <td>40727</td>\n",
       "      <td>30</td>\n",
       "      <td>0</td>\n",
       "      <td>7</td>\n",
       "      <td>7</td>\n",
       "      <td>10</td>\n",
       "    </tr>\n",
       "    <tr>\n",
       "      <th>3</th>\n",
       "      <td>20190611_1552_icab_hni_R</td>\n",
       "      <td>20190611</td>\n",
       "      <td>1552</td>\n",
       "      <td>R</td>\n",
       "      <td>2640</td>\n",
       "      <td>21549</td>\n",
       "      <td>22163</td>\n",
       "      <td>40642</td>\n",
       "      <td>30</td>\n",
       "      <td>5</td>\n",
       "      <td>5</td>\n",
       "      <td>5</td>\n",
       "      <td>10</td>\n",
       "    </tr>\n",
       "    <tr>\n",
       "      <th>4</th>\n",
       "      <td>20190611_1628_icab_hdr_R</td>\n",
       "      <td>20190611</td>\n",
       "      <td>1628</td>\n",
       "      <td>R</td>\n",
       "      <td>2434</td>\n",
       "      <td>21290</td>\n",
       "      <td>22020</td>\n",
       "      <td>40267</td>\n",
       "      <td>30</td>\n",
       "      <td>0</td>\n",
       "      <td>5</td>\n",
       "      <td>8</td>\n",
       "      <td>5</td>\n",
       "    </tr>\n",
       "    <tr>\n",
       "      <th>...</th>\n",
       "      <td>...</td>\n",
       "      <td>...</td>\n",
       "      <td>...</td>\n",
       "      <td>...</td>\n",
       "      <td>...</td>\n",
       "      <td>...</td>\n",
       "      <td>...</td>\n",
       "      <td>...</td>\n",
       "      <td>...</td>\n",
       "      <td>...</td>\n",
       "      <td>...</td>\n",
       "      <td>...</td>\n",
       "      <td>...</td>\n",
       "    </tr>\n",
       "    <tr>\n",
       "      <th>72</th>\n",
       "      <td>20190616_1531_icab_hdr_L</td>\n",
       "      <td>20190616</td>\n",
       "      <td>1531</td>\n",
       "      <td>L</td>\n",
       "      <td>2421</td>\n",
       "      <td>21057</td>\n",
       "      <td>21662</td>\n",
       "      <td>40056</td>\n",
       "      <td>30</td>\n",
       "      <td>5</td>\n",
       "      <td>10</td>\n",
       "      <td>5</td>\n",
       "      <td>10</td>\n",
       "    </tr>\n",
       "    <tr>\n",
       "      <th>73</th>\n",
       "      <td>20190616_1556_icab_hdr_L</td>\n",
       "      <td>20190616</td>\n",
       "      <td>1556</td>\n",
       "      <td>L</td>\n",
       "      <td>2071</td>\n",
       "      <td>21015</td>\n",
       "      <td>21746</td>\n",
       "      <td>40323</td>\n",
       "      <td>30</td>\n",
       "      <td>5</td>\n",
       "      <td>10</td>\n",
       "      <td>5</td>\n",
       "      <td>0</td>\n",
       "    </tr>\n",
       "    <tr>\n",
       "      <th>74</th>\n",
       "      <td>20190616_1622_icab_ho5_L</td>\n",
       "      <td>20190616</td>\n",
       "      <td>1622</td>\n",
       "      <td>L</td>\n",
       "      <td>2286</td>\n",
       "      <td>20929</td>\n",
       "      <td>21531</td>\n",
       "      <td>39813</td>\n",
       "      <td>30</td>\n",
       "      <td>5</td>\n",
       "      <td>10</td>\n",
       "      <td>5</td>\n",
       "      <td>10</td>\n",
       "    </tr>\n",
       "    <tr>\n",
       "      <th>75</th>\n",
       "      <td>20190616_1651_icab_icab_L</td>\n",
       "      <td>20190616</td>\n",
       "      <td>1651</td>\n",
       "      <td>L</td>\n",
       "      <td>1980</td>\n",
       "      <td>21029</td>\n",
       "      <td>21647</td>\n",
       "      <td>40943</td>\n",
       "      <td>30</td>\n",
       "      <td>5</td>\n",
       "      <td>10</td>\n",
       "      <td>5</td>\n",
       "      <td>0</td>\n",
       "    </tr>\n",
       "    <tr>\n",
       "      <th>76</th>\n",
       "      <td>20190616_1717_icab_icab_L</td>\n",
       "      <td>20190616</td>\n",
       "      <td>1717</td>\n",
       "      <td>L</td>\n",
       "      <td>2509</td>\n",
       "      <td>20787</td>\n",
       "      <td>21265</td>\n",
       "      <td>39543</td>\n",
       "      <td>30</td>\n",
       "      <td>5</td>\n",
       "      <td>10</td>\n",
       "      <td>5</td>\n",
       "      <td>10</td>\n",
       "    </tr>\n",
       "  </tbody>\n",
       "</table>\n",
       "<p>77 rows × 13 columns</p>\n",
       "</div>"
      ],
      "text/plain": [
       "                       sample      date  time tank_side  of_start  of_end  \\\n",
       "0   20190611_1331_icab_icab_R  20190611  1331         R      1723   20000   \n",
       "1   20190611_1410_icab_kaga_R  20190611  1410         R      2380   21791   \n",
       "2    20190611_1454_icab_hni_R  20190611  1454         R      2815   21698   \n",
       "3    20190611_1552_icab_hni_R  20190611  1552         R      2640   21549   \n",
       "4    20190611_1628_icab_hdr_R  20190611  1628         R      2434   21290   \n",
       "..                        ...       ...   ...       ...       ...     ...   \n",
       "72   20190616_1531_icab_hdr_L  20190616  1531         L      2421   21057   \n",
       "73   20190616_1556_icab_hdr_L  20190616  1556         L      2071   21015   \n",
       "74   20190616_1622_icab_ho5_L  20190616  1622         L      2286   20929   \n",
       "75  20190616_1651_icab_icab_L  20190616  1651         L      1980   21029   \n",
       "76  20190616_1717_icab_icab_L  20190616  1717         L      2509   20787   \n",
       "\n",
       "    no_start  no_end  fps  adj_top  adj_bottom  adj_left  adj_right  \n",
       "0      20892   39458   30        0           5         5         10  \n",
       "1      22584   42226   30        0           5         5         10  \n",
       "2      22351   40727   30        0           7         7         10  \n",
       "3      22163   40642   30        5           5         5         10  \n",
       "4      22020   40267   30        0           5         8          5  \n",
       "..       ...     ...  ...      ...         ...       ...        ...  \n",
       "72     21662   40056   30        5          10         5         10  \n",
       "73     21746   40323   30        5          10         5          0  \n",
       "74     21531   39813   30        5          10         5         10  \n",
       "75     21647   40943   30        5          10         5          0  \n",
       "76     21265   39543   30        5          10         5         10  \n",
       "\n",
       "[77 rows x 13 columns]"
      ]
     },
     "execution_count": 14,
     "metadata": {},
     "output_type": "execute_result"
    }
   ],
   "source": [
    "df"
   ]
  },
  {
   "cell_type": "code",
   "execution_count": 16,
   "metadata": {},
   "outputs": [],
   "source": [
    "df['of_vidlen'] = df['of_end'] - df['of_start']\n",
    "df['no_vidlen'] = df['no_end'] - df['no_start']"
   ]
  },
  {
   "cell_type": "code",
   "execution_count": 21,
   "metadata": {},
   "outputs": [
    {
     "data": {
      "text/html": [
       "<div>\n",
       "<style scoped>\n",
       "    .dataframe tbody tr th:only-of-type {\n",
       "        vertical-align: middle;\n",
       "    }\n",
       "\n",
       "    .dataframe tbody tr th {\n",
       "        vertical-align: top;\n",
       "    }\n",
       "\n",
       "    .dataframe thead th {\n",
       "        text-align: right;\n",
       "    }\n",
       "</style>\n",
       "<table border=\"1\" class=\"dataframe\">\n",
       "  <thead>\n",
       "    <tr style=\"text-align: right;\">\n",
       "      <th></th>\n",
       "      <th>sample</th>\n",
       "      <th>date</th>\n",
       "      <th>time</th>\n",
       "      <th>tank_side</th>\n",
       "      <th>of_start</th>\n",
       "      <th>of_end</th>\n",
       "      <th>no_start</th>\n",
       "      <th>no_end</th>\n",
       "      <th>fps</th>\n",
       "      <th>adj_top</th>\n",
       "      <th>adj_bottom</th>\n",
       "      <th>adj_left</th>\n",
       "      <th>adj_right</th>\n",
       "      <th>of_vidlen</th>\n",
       "      <th>no_vidlen</th>\n",
       "    </tr>\n",
       "  </thead>\n",
       "  <tbody>\n",
       "    <tr>\n",
       "      <th>0</th>\n",
       "      <td>20190611_1331_icab_icab_R</td>\n",
       "      <td>20190611</td>\n",
       "      <td>1331</td>\n",
       "      <td>R</td>\n",
       "      <td>1723</td>\n",
       "      <td>20000</td>\n",
       "      <td>20892</td>\n",
       "      <td>39458</td>\n",
       "      <td>30</td>\n",
       "      <td>0</td>\n",
       "      <td>5</td>\n",
       "      <td>5</td>\n",
       "      <td>10</td>\n",
       "      <td>18277</td>\n",
       "      <td>18566</td>\n",
       "    </tr>\n",
       "    <tr>\n",
       "      <th>1</th>\n",
       "      <td>20190611_1410_icab_kaga_R</td>\n",
       "      <td>20190611</td>\n",
       "      <td>1410</td>\n",
       "      <td>R</td>\n",
       "      <td>2380</td>\n",
       "      <td>21791</td>\n",
       "      <td>22584</td>\n",
       "      <td>42226</td>\n",
       "      <td>30</td>\n",
       "      <td>0</td>\n",
       "      <td>5</td>\n",
       "      <td>5</td>\n",
       "      <td>10</td>\n",
       "      <td>19411</td>\n",
       "      <td>19642</td>\n",
       "    </tr>\n",
       "    <tr>\n",
       "      <th>2</th>\n",
       "      <td>20190611_1454_icab_hni_R</td>\n",
       "      <td>20190611</td>\n",
       "      <td>1454</td>\n",
       "      <td>R</td>\n",
       "      <td>2815</td>\n",
       "      <td>21698</td>\n",
       "      <td>22351</td>\n",
       "      <td>40727</td>\n",
       "      <td>30</td>\n",
       "      <td>0</td>\n",
       "      <td>7</td>\n",
       "      <td>7</td>\n",
       "      <td>10</td>\n",
       "      <td>18883</td>\n",
       "      <td>18376</td>\n",
       "    </tr>\n",
       "    <tr>\n",
       "      <th>3</th>\n",
       "      <td>20190611_1552_icab_hni_R</td>\n",
       "      <td>20190611</td>\n",
       "      <td>1552</td>\n",
       "      <td>R</td>\n",
       "      <td>2640</td>\n",
       "      <td>21549</td>\n",
       "      <td>22163</td>\n",
       "      <td>40642</td>\n",
       "      <td>30</td>\n",
       "      <td>5</td>\n",
       "      <td>5</td>\n",
       "      <td>5</td>\n",
       "      <td>10</td>\n",
       "      <td>18909</td>\n",
       "      <td>18479</td>\n",
       "    </tr>\n",
       "    <tr>\n",
       "      <th>4</th>\n",
       "      <td>20190611_1628_icab_hdr_R</td>\n",
       "      <td>20190611</td>\n",
       "      <td>1628</td>\n",
       "      <td>R</td>\n",
       "      <td>2434</td>\n",
       "      <td>21290</td>\n",
       "      <td>22020</td>\n",
       "      <td>40267</td>\n",
       "      <td>30</td>\n",
       "      <td>0</td>\n",
       "      <td>5</td>\n",
       "      <td>8</td>\n",
       "      <td>5</td>\n",
       "      <td>18856</td>\n",
       "      <td>18247</td>\n",
       "    </tr>\n",
       "    <tr>\n",
       "      <th>...</th>\n",
       "      <td>...</td>\n",
       "      <td>...</td>\n",
       "      <td>...</td>\n",
       "      <td>...</td>\n",
       "      <td>...</td>\n",
       "      <td>...</td>\n",
       "      <td>...</td>\n",
       "      <td>...</td>\n",
       "      <td>...</td>\n",
       "      <td>...</td>\n",
       "      <td>...</td>\n",
       "      <td>...</td>\n",
       "      <td>...</td>\n",
       "      <td>...</td>\n",
       "      <td>...</td>\n",
       "    </tr>\n",
       "    <tr>\n",
       "      <th>72</th>\n",
       "      <td>20190616_1531_icab_hdr_L</td>\n",
       "      <td>20190616</td>\n",
       "      <td>1531</td>\n",
       "      <td>L</td>\n",
       "      <td>2421</td>\n",
       "      <td>21057</td>\n",
       "      <td>21662</td>\n",
       "      <td>40056</td>\n",
       "      <td>30</td>\n",
       "      <td>5</td>\n",
       "      <td>10</td>\n",
       "      <td>5</td>\n",
       "      <td>10</td>\n",
       "      <td>18636</td>\n",
       "      <td>18394</td>\n",
       "    </tr>\n",
       "    <tr>\n",
       "      <th>73</th>\n",
       "      <td>20190616_1556_icab_hdr_L</td>\n",
       "      <td>20190616</td>\n",
       "      <td>1556</td>\n",
       "      <td>L</td>\n",
       "      <td>2071</td>\n",
       "      <td>21015</td>\n",
       "      <td>21746</td>\n",
       "      <td>40323</td>\n",
       "      <td>30</td>\n",
       "      <td>5</td>\n",
       "      <td>10</td>\n",
       "      <td>5</td>\n",
       "      <td>0</td>\n",
       "      <td>18944</td>\n",
       "      <td>18577</td>\n",
       "    </tr>\n",
       "    <tr>\n",
       "      <th>74</th>\n",
       "      <td>20190616_1622_icab_ho5_L</td>\n",
       "      <td>20190616</td>\n",
       "      <td>1622</td>\n",
       "      <td>L</td>\n",
       "      <td>2286</td>\n",
       "      <td>20929</td>\n",
       "      <td>21531</td>\n",
       "      <td>39813</td>\n",
       "      <td>30</td>\n",
       "      <td>5</td>\n",
       "      <td>10</td>\n",
       "      <td>5</td>\n",
       "      <td>10</td>\n",
       "      <td>18643</td>\n",
       "      <td>18282</td>\n",
       "    </tr>\n",
       "    <tr>\n",
       "      <th>75</th>\n",
       "      <td>20190616_1651_icab_icab_L</td>\n",
       "      <td>20190616</td>\n",
       "      <td>1651</td>\n",
       "      <td>L</td>\n",
       "      <td>1980</td>\n",
       "      <td>21029</td>\n",
       "      <td>21647</td>\n",
       "      <td>40943</td>\n",
       "      <td>30</td>\n",
       "      <td>5</td>\n",
       "      <td>10</td>\n",
       "      <td>5</td>\n",
       "      <td>0</td>\n",
       "      <td>19049</td>\n",
       "      <td>19296</td>\n",
       "    </tr>\n",
       "    <tr>\n",
       "      <th>76</th>\n",
       "      <td>20190616_1717_icab_icab_L</td>\n",
       "      <td>20190616</td>\n",
       "      <td>1717</td>\n",
       "      <td>L</td>\n",
       "      <td>2509</td>\n",
       "      <td>20787</td>\n",
       "      <td>21265</td>\n",
       "      <td>39543</td>\n",
       "      <td>30</td>\n",
       "      <td>5</td>\n",
       "      <td>10</td>\n",
       "      <td>5</td>\n",
       "      <td>10</td>\n",
       "      <td>18278</td>\n",
       "      <td>18278</td>\n",
       "    </tr>\n",
       "  </tbody>\n",
       "</table>\n",
       "<p>77 rows × 15 columns</p>\n",
       "</div>"
      ],
      "text/plain": [
       "                       sample      date  time tank_side  of_start  of_end  \\\n",
       "0   20190611_1331_icab_icab_R  20190611  1331         R      1723   20000   \n",
       "1   20190611_1410_icab_kaga_R  20190611  1410         R      2380   21791   \n",
       "2    20190611_1454_icab_hni_R  20190611  1454         R      2815   21698   \n",
       "3    20190611_1552_icab_hni_R  20190611  1552         R      2640   21549   \n",
       "4    20190611_1628_icab_hdr_R  20190611  1628         R      2434   21290   \n",
       "..                        ...       ...   ...       ...       ...     ...   \n",
       "72   20190616_1531_icab_hdr_L  20190616  1531         L      2421   21057   \n",
       "73   20190616_1556_icab_hdr_L  20190616  1556         L      2071   21015   \n",
       "74   20190616_1622_icab_ho5_L  20190616  1622         L      2286   20929   \n",
       "75  20190616_1651_icab_icab_L  20190616  1651         L      1980   21029   \n",
       "76  20190616_1717_icab_icab_L  20190616  1717         L      2509   20787   \n",
       "\n",
       "    no_start  no_end  fps  adj_top  adj_bottom  adj_left  adj_right  \\\n",
       "0      20892   39458   30        0           5         5         10   \n",
       "1      22584   42226   30        0           5         5         10   \n",
       "2      22351   40727   30        0           7         7         10   \n",
       "3      22163   40642   30        5           5         5         10   \n",
       "4      22020   40267   30        0           5         8          5   \n",
       "..       ...     ...  ...      ...         ...       ...        ...   \n",
       "72     21662   40056   30        5          10         5         10   \n",
       "73     21746   40323   30        5          10         5          0   \n",
       "74     21531   39813   30        5          10         5         10   \n",
       "75     21647   40943   30        5          10         5          0   \n",
       "76     21265   39543   30        5          10         5         10   \n",
       "\n",
       "    of_vidlen  no_vidlen  \n",
       "0       18277      18566  \n",
       "1       19411      19642  \n",
       "2       18883      18376  \n",
       "3       18909      18479  \n",
       "4       18856      18247  \n",
       "..        ...        ...  \n",
       "72      18636      18394  \n",
       "73      18944      18577  \n",
       "74      18643      18282  \n",
       "75      19049      19296  \n",
       "76      18278      18278  \n",
       "\n",
       "[77 rows x 15 columns]"
      ]
     },
     "execution_count": 21,
     "metadata": {},
     "output_type": "execute_result"
    }
   ],
   "source": [
    "df"
   ]
  },
  {
   "cell_type": "code",
   "execution_count": 26,
   "metadata": {},
   "outputs": [],
   "source": [
    "df.to_csv('/Users/brettell/Documents/Repositories/pilot_paper/code/snakemake/config/samples.csv',index=False)"
   ]
  },
  {
   "cell_type": "code",
   "execution_count": null,
   "metadata": {},
   "outputs": [],
   "source": []
  }
 ],
 "metadata": {
  "kernelspec": {
   "display_name": "Python 3",
   "language": "python",
   "name": "python3"
  },
  "language_info": {
   "codemirror_mode": {
    "name": "ipython",
    "version": 3
   },
   "file_extension": ".py",
   "mimetype": "text/x-python",
   "name": "python",
   "nbconvert_exporter": "python",
   "pygments_lexer": "ipython3",
   "version": "3.8.3"
  }
 },
 "nbformat": 4,
 "nbformat_minor": 4
}
