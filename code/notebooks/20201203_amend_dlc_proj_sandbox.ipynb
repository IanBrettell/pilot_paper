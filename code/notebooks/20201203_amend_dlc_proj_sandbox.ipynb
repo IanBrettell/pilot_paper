{
 "cells": [
  {
   "cell_type": "code",
   "execution_count": 557,
   "metadata": {},
   "outputs": [],
   "source": [
    "# Import libraries"
   ]
  },
  {
   "cell_type": "code",
   "execution_count": 585,
   "metadata": {},
   "outputs": [],
   "source": [
    "import pandas as pd\n",
    "import os"
   ]
  },
  {
   "cell_type": "markdown",
   "metadata": {},
   "source": [
    "# Find columns with all NaN"
   ]
  },
  {
   "cell_type": "code",
   "execution_count": 560,
   "metadata": {},
   "outputs": [],
   "source": [
    "test_lines = ['icab_b', 'hni', 'kaga', 'hdrr', 'ho5', 'mikk_a', 'mikk_b']"
   ]
  },
  {
   "cell_type": "code",
   "execution_count": 561,
   "metadata": {},
   "outputs": [
    {
     "data": {
      "text/plain": [
       "True"
      ]
     },
     "execution_count": 561,
     "metadata": {},
     "output_type": "execute_result"
    }
   ],
   "source": [
    "pd.isnull(file['ian_brettell'][line]).all().all()"
   ]
  },
  {
   "cell_type": "code",
   "execution_count": 562,
   "metadata": {},
   "outputs": [
    {
     "data": {
      "text/plain": [
       "['icab_b', 'hni', 'kaga', 'hdrr', 'ho5', 'mikk_a', 'mikk_b']"
      ]
     },
     "execution_count": 562,
     "metadata": {},
     "output_type": "execute_result"
    }
   ],
   "source": [
    "test_lines"
   ]
  },
  {
   "cell_type": "code",
   "execution_count": 563,
   "metadata": {},
   "outputs": [],
   "source": [
    "lines_to_drop = []\n",
    "for line in test_lines:\n",
    "    if pd.isnull(file['ian_brettell'][line]).all().all():\n",
    "        lines_to_drop.append(line)    "
   ]
  },
  {
   "cell_type": "code",
   "execution_count": 564,
   "metadata": {},
   "outputs": [
    {
     "data": {
      "text/plain": [
       "['icab_b', 'hni', 'kaga', 'ho5', 'mikk_a', 'mikk_b']"
      ]
     },
     "execution_count": 564,
     "metadata": {},
     "output_type": "execute_result"
    }
   ],
   "source": [
    "lines_to_drop"
   ]
  },
  {
   "cell_type": "code",
   "execution_count": 565,
   "metadata": {},
   "outputs": [],
   "source": [
    "file.drop(columns = lines_to_drop, level = 1, inplace = True)"
   ]
  },
  {
   "cell_type": "markdown",
   "metadata": {},
   "source": [
    "## Rename columns"
   ]
  },
  {
   "cell_type": "code",
   "execution_count": 566,
   "metadata": {},
   "outputs": [],
   "source": [
    "pairs = [['icab_a', 'ref'], ['icab_b', 'test'], ['hni', 'test'], ['kaga', 'test'], ['hdrr', 'test'], ['ho5', 'test'], ['mikk_a', 'test'], ['mikk_b', 'test']]"
   ]
  },
  {
   "cell_type": "code",
   "execution_count": 567,
   "metadata": {
    "scrolled": true
   },
   "outputs": [],
   "source": [
    "dict_ = {k: v for k, v in pairs}"
   ]
  },
  {
   "cell_type": "code",
   "execution_count": 568,
   "metadata": {},
   "outputs": [
    {
     "data": {
      "text/plain": [
       "{'icab_a': 'ref',\n",
       " 'icab_b': 'test',\n",
       " 'hni': 'test',\n",
       " 'kaga': 'test',\n",
       " 'hdrr': 'test',\n",
       " 'ho5': 'test',\n",
       " 'mikk_a': 'test',\n",
       " 'mikk_b': 'test'}"
      ]
     },
     "execution_count": 568,
     "metadata": {},
     "output_type": "execute_result"
    }
   ],
   "source": [
    "dict_"
   ]
  },
  {
   "cell_type": "code",
   "execution_count": 569,
   "metadata": {},
   "outputs": [],
   "source": [
    "file.rename(dict_, level=\"individuals\", axis=1, inplace=True)"
   ]
  },
  {
   "cell_type": "code",
   "execution_count": 586,
   "metadata": {},
   "outputs": [],
   "source": [
    "os.remove(in_file)"
   ]
  },
  {
   "cell_type": "code",
   "execution_count": 587,
   "metadata": {},
   "outputs": [],
   "source": [
    "file.to_hdf(in_file, key=\"df_with_missing\", mode='w')"
   ]
  },
  {
   "cell_type": "code",
   "execution_count": 582,
   "metadata": {},
   "outputs": [],
   "source": [
    "file.to_hdf?"
   ]
  },
  {
   "cell_type": "code",
   "execution_count": 580,
   "metadata": {},
   "outputs": [],
   "source": [
    "pd.read_hdf?"
   ]
  },
  {
   "cell_type": "markdown",
   "metadata": {},
   "source": [
    "# Read in and make new lists of videos to analyse"
   ]
  },
  {
   "cell_type": "markdown",
   "metadata": {},
   "source": [
    "## 8 December 2020"
   ]
  },
  {
   "cell_type": "code",
   "execution_count": 32,
   "metadata": {},
   "outputs": [],
   "source": [
    "import pandas as pd\n",
    "# Read in data\n",
    "df = pd.read_csv('/Users/brettell/Documents/Repositories/pilot_paper/data/20201208_analysed_samples.csv')"
   ]
  },
  {
   "cell_type": "code",
   "execution_count": 33,
   "metadata": {},
   "outputs": [
    {
     "data": {
      "text/html": [
       "<div>\n",
       "<style scoped>\n",
       "    .dataframe tbody tr th:only-of-type {\n",
       "        vertical-align: middle;\n",
       "    }\n",
       "\n",
       "    .dataframe tbody tr th {\n",
       "        vertical-align: top;\n",
       "    }\n",
       "\n",
       "    .dataframe thead th {\n",
       "        text-align: right;\n",
       "    }\n",
       "</style>\n",
       "<table border=\"1\" class=\"dataframe\">\n",
       "  <thead>\n",
       "    <tr style=\"text-align: right;\">\n",
       "      <th></th>\n",
       "      <th>sample</th>\n",
       "      <th>current</th>\n",
       "      <th>analysed</th>\n",
       "      <th>tracklets</th>\n",
       "      <th>needs another analysis</th>\n",
       "      <th>completed</th>\n",
       "    </tr>\n",
       "  </thead>\n",
       "  <tbody>\n",
       "    <tr>\n",
       "      <th>0</th>\n",
       "      <td>20190611_1331_icab_icab_R_q1_novel_object</td>\n",
       "      <td>NaN</td>\n",
       "      <td>NaN</td>\n",
       "      <td>NaN</td>\n",
       "      <td>NaN</td>\n",
       "      <td>NaN</td>\n",
       "    </tr>\n",
       "    <tr>\n",
       "      <th>1</th>\n",
       "      <td>20190611_1331_icab_icab_R_q1_open_field</td>\n",
       "      <td>NaN</td>\n",
       "      <td>NaN</td>\n",
       "      <td>NaN</td>\n",
       "      <td>NaN</td>\n",
       "      <td>NaN</td>\n",
       "    </tr>\n",
       "    <tr>\n",
       "      <th>2</th>\n",
       "      <td>20190611_1331_icab_icab_R_q2_novel_object</td>\n",
       "      <td>NaN</td>\n",
       "      <td>NaN</td>\n",
       "      <td>NaN</td>\n",
       "      <td>NaN</td>\n",
       "      <td>NaN</td>\n",
       "    </tr>\n",
       "    <tr>\n",
       "      <th>3</th>\n",
       "      <td>20190611_1331_icab_icab_R_q2_open_field</td>\n",
       "      <td>NaN</td>\n",
       "      <td>NaN</td>\n",
       "      <td>NaN</td>\n",
       "      <td>NaN</td>\n",
       "      <td>NaN</td>\n",
       "    </tr>\n",
       "    <tr>\n",
       "      <th>4</th>\n",
       "      <td>20190611_1331_icab_icab_R_q3_novel_object</td>\n",
       "      <td>NaN</td>\n",
       "      <td>NaN</td>\n",
       "      <td>NaN</td>\n",
       "      <td>NaN</td>\n",
       "      <td>NaN</td>\n",
       "    </tr>\n",
       "  </tbody>\n",
       "</table>\n",
       "</div>"
      ],
      "text/plain": [
       "                                      sample current analysed tracklets  \\\n",
       "0  20190611_1331_icab_icab_R_q1_novel_object     NaN      NaN       NaN   \n",
       "1    20190611_1331_icab_icab_R_q1_open_field     NaN      NaN       NaN   \n",
       "2  20190611_1331_icab_icab_R_q2_novel_object     NaN      NaN       NaN   \n",
       "3    20190611_1331_icab_icab_R_q2_open_field     NaN      NaN       NaN   \n",
       "4  20190611_1331_icab_icab_R_q3_novel_object     NaN      NaN       NaN   \n",
       "\n",
       "  needs another analysis completed  \n",
       "0                    NaN       NaN  \n",
       "1                    NaN       NaN  \n",
       "2                    NaN       NaN  \n",
       "3                    NaN       NaN  \n",
       "4                    NaN       NaN  "
      ]
     },
     "execution_count": 33,
     "metadata": {},
     "output_type": "execute_result"
    }
   ],
   "source": [
    "df.head()"
   ]
  },
  {
   "cell_type": "code",
   "execution_count": 34,
   "metadata": {},
   "outputs": [
    {
     "data": {
      "text/plain": [
       "(616, 6)"
      ]
     },
     "execution_count": 34,
     "metadata": {},
     "output_type": "execute_result"
    }
   ],
   "source": [
    "df.shape"
   ]
  },
  {
   "cell_type": "code",
   "execution_count": 35,
   "metadata": {},
   "outputs": [],
   "source": [
    "# get completed rows\n",
    "completed = df[\"completed\"] == \"yes\""
   ]
  },
  {
   "cell_type": "code",
   "execution_count": 36,
   "metadata": {},
   "outputs": [
    {
     "data": {
      "text/plain": [
       "array([nan, 'yes'], dtype=object)"
      ]
     },
     "execution_count": 36,
     "metadata": {},
     "output_type": "execute_result"
    }
   ],
   "source": [
    "df[\"completed\"].unique()"
   ]
  },
  {
   "cell_type": "code",
   "execution_count": 37,
   "metadata": {},
   "outputs": [
    {
     "data": {
      "text/plain": [
       "0      False\n",
       "1      False\n",
       "2      False\n",
       "3      False\n",
       "4      False\n",
       "       ...  \n",
       "611    False\n",
       "612    False\n",
       "613    False\n",
       "614    False\n",
       "615    False\n",
       "Name: completed, Length: 616, dtype: bool"
      ]
     },
     "execution_count": 37,
     "metadata": {},
     "output_type": "execute_result"
    }
   ],
   "source": [
    "df[\"completed\"] == \"yes\""
   ]
  },
  {
   "cell_type": "code",
   "execution_count": 38,
   "metadata": {},
   "outputs": [
    {
     "data": {
      "text/html": [
       "<div>\n",
       "<style scoped>\n",
       "    .dataframe tbody tr th:only-of-type {\n",
       "        vertical-align: middle;\n",
       "    }\n",
       "\n",
       "    .dataframe tbody tr th {\n",
       "        vertical-align: top;\n",
       "    }\n",
       "\n",
       "    .dataframe thead th {\n",
       "        text-align: right;\n",
       "    }\n",
       "</style>\n",
       "<table border=\"1\" class=\"dataframe\">\n",
       "  <thead>\n",
       "    <tr style=\"text-align: right;\">\n",
       "      <th></th>\n",
       "      <th>sample</th>\n",
       "      <th>current</th>\n",
       "      <th>analysed</th>\n",
       "      <th>tracklets</th>\n",
       "      <th>needs another analysis</th>\n",
       "      <th>completed</th>\n",
       "    </tr>\n",
       "  </thead>\n",
       "  <tbody>\n",
       "    <tr>\n",
       "      <th>163</th>\n",
       "      <td>20190613_1054_icab_hdr_R_q2_open_field</td>\n",
       "      <td>NaN</td>\n",
       "      <td>yes</td>\n",
       "      <td>yes</td>\n",
       "      <td>NaN</td>\n",
       "      <td>yes</td>\n",
       "    </tr>\n",
       "    <tr>\n",
       "      <th>247</th>\n",
       "      <td>20190614_1139_icab_hni_R_q4_open_field</td>\n",
       "      <td>yes</td>\n",
       "      <td>yes</td>\n",
       "      <td>NaN</td>\n",
       "      <td>yes</td>\n",
       "      <td>yes</td>\n",
       "    </tr>\n",
       "  </tbody>\n",
       "</table>\n",
       "</div>"
      ],
      "text/plain": [
       "                                     sample current analysed tracklets  \\\n",
       "163  20190613_1054_icab_hdr_R_q2_open_field     NaN      yes       yes   \n",
       "247  20190614_1139_icab_hni_R_q4_open_field     yes      yes       NaN   \n",
       "\n",
       "    needs another analysis completed  \n",
       "163                    NaN       yes  \n",
       "247                    yes       yes  "
      ]
     },
     "execution_count": 38,
     "metadata": {},
     "output_type": "execute_result"
    }
   ],
   "source": [
    "# Get equal\n",
    "df[df.completed.eq(\"yes\")]"
   ]
  },
  {
   "cell_type": "code",
   "execution_count": 42,
   "metadata": {},
   "outputs": [
    {
     "data": {
      "text/plain": [
       "0      20190611_1331_icab_icab_R_q1_novel_object\n",
       "1        20190611_1331_icab_icab_R_q1_open_field\n",
       "2      20190611_1331_icab_icab_R_q2_novel_object\n",
       "3        20190611_1331_icab_icab_R_q2_open_field\n",
       "4      20190611_1331_icab_icab_R_q3_novel_object\n",
       "                         ...                    \n",
       "611      20190616_1717_icab_icab_L_q2_open_field\n",
       "612    20190616_1717_icab_icab_L_q3_novel_object\n",
       "613      20190616_1717_icab_icab_L_q3_open_field\n",
       "614    20190616_1717_icab_icab_L_q4_novel_object\n",
       "615      20190616_1717_icab_icab_L_q4_open_field\n",
       "Name: sample, Length: 614, dtype: object"
      ]
     },
     "execution_count": 42,
     "metadata": {},
     "output_type": "execute_result"
    }
   ],
   "source": [
    "# Get not-equal\n",
    "samples = df.loc[df['completed'] != \"yes\", \"sample\"]\n",
    "samples"
   ]
  },
  {
   "cell_type": "code",
   "execution_count": 43,
   "metadata": {},
   "outputs": [],
   "source": [
    "# Write to file\n",
    "samples.to_csv('/Users/brettell/Documents/Repositories/pilot_paper/data/samples_to_analyse.csv')"
   ]
  }
 ],
 "metadata": {
  "kernelspec": {
   "display_name": "Python 3",
   "language": "python",
   "name": "python3"
  },
  "language_info": {
   "codemirror_mode": {
    "name": "ipython",
    "version": 3
   },
   "file_extension": ".py",
   "mimetype": "text/x-python",
   "name": "python",
   "nbconvert_exporter": "python",
   "pygments_lexer": "ipython3",
   "version": "3.8.3"
  }
 },
 "nbformat": 4,
 "nbformat_minor": 4
}
