{
 "cells": [
  {
   "cell_type": "markdown",
   "metadata": {},
   "source": [
    "# Setup"
   ]
  },
  {
   "cell_type": "code",
   "execution_count": 9,
   "metadata": {},
   "outputs": [],
   "source": [
    "import pandas as pd\n",
    "import os"
   ]
  },
  {
   "cell_type": "markdown",
   "metadata": {},
   "source": [
    "## Import variables"
   ]
  },
  {
   "cell_type": "code",
   "execution_count": 20,
   "metadata": {},
   "outputs": [],
   "source": [
    "samples_file = \"../../data/20210118_paramaters.csv\""
   ]
  },
  {
   "cell_type": "markdown",
   "metadata": {},
   "source": [
    "## Load samples file"
   ]
  },
  {
   "cell_type": "code",
   "execution_count": 25,
   "metadata": {},
   "outputs": [],
   "source": [
    "samples = pd.read_csv (samples_file, comment=\"#\", skip_blank_lines=True, index_col=0)"
   ]
  },
  {
   "cell_type": "code",
   "execution_count": 26,
   "metadata": {},
   "outputs": [
    {
     "data": {
      "text/html": [
       "<div>\n",
       "<style scoped>\n",
       "    .dataframe tbody tr th:only-of-type {\n",
       "        vertical-align: middle;\n",
       "    }\n",
       "\n",
       "    .dataframe tbody tr th {\n",
       "        vertical-align: top;\n",
       "    }\n",
       "\n",
       "    .dataframe thead th {\n",
       "        text-align: right;\n",
       "    }\n",
       "</style>\n",
       "<table border=\"1\" class=\"dataframe\">\n",
       "  <thead>\n",
       "    <tr style=\"text-align: right;\">\n",
       "      <th></th>\n",
       "      <th>vid_length</th>\n",
       "      <th>int_floor</th>\n",
       "      <th>int_ceiling</th>\n",
       "      <th>area_floor</th>\n",
       "      <th>area_ceiling</th>\n",
       "      <th>test_line</th>\n",
       "    </tr>\n",
       "    <tr>\n",
       "      <th>sample</th>\n",
       "      <th></th>\n",
       "      <th></th>\n",
       "      <th></th>\n",
       "      <th></th>\n",
       "      <th></th>\n",
       "      <th></th>\n",
       "    </tr>\n",
       "  </thead>\n",
       "  <tbody>\n",
       "    <tr>\n",
       "      <th>20190611_1331_icab_icab_R_q1_novel_object</th>\n",
       "      <td>18566</td>\n",
       "      <td>0</td>\n",
       "      <td>175</td>\n",
       "      <td>80</td>\n",
       "      <td>450</td>\n",
       "      <td>icab</td>\n",
       "    </tr>\n",
       "    <tr>\n",
       "      <th>20190611_1331_icab_icab_R_q1_open_field</th>\n",
       "      <td>18277</td>\n",
       "      <td>0</td>\n",
       "      <td>175</td>\n",
       "      <td>80</td>\n",
       "      <td>450</td>\n",
       "      <td>icab</td>\n",
       "    </tr>\n",
       "    <tr>\n",
       "      <th>20190611_1331_icab_icab_R_q2_novel_object</th>\n",
       "      <td>18566</td>\n",
       "      <td>0</td>\n",
       "      <td>175</td>\n",
       "      <td>80</td>\n",
       "      <td>450</td>\n",
       "      <td>icab</td>\n",
       "    </tr>\n",
       "    <tr>\n",
       "      <th>20190611_1331_icab_icab_R_q2_open_field</th>\n",
       "      <td>18277</td>\n",
       "      <td>0</td>\n",
       "      <td>175</td>\n",
       "      <td>80</td>\n",
       "      <td>450</td>\n",
       "      <td>icab</td>\n",
       "    </tr>\n",
       "    <tr>\n",
       "      <th>20190611_1331_icab_icab_R_q3_novel_object</th>\n",
       "      <td>18566</td>\n",
       "      <td>0</td>\n",
       "      <td>175</td>\n",
       "      <td>80</td>\n",
       "      <td>450</td>\n",
       "      <td>icab</td>\n",
       "    </tr>\n",
       "    <tr>\n",
       "      <th>...</th>\n",
       "      <td>...</td>\n",
       "      <td>...</td>\n",
       "      <td>...</td>\n",
       "      <td>...</td>\n",
       "      <td>...</td>\n",
       "      <td>...</td>\n",
       "    </tr>\n",
       "    <tr>\n",
       "      <th>20190616_1717_icab_icab_L_q2_open_field</th>\n",
       "      <td>18278</td>\n",
       "      <td>0</td>\n",
       "      <td>175</td>\n",
       "      <td>80</td>\n",
       "      <td>450</td>\n",
       "      <td>icab</td>\n",
       "    </tr>\n",
       "    <tr>\n",
       "      <th>20190616_1717_icab_icab_L_q3_novel_object</th>\n",
       "      <td>18278</td>\n",
       "      <td>0</td>\n",
       "      <td>175</td>\n",
       "      <td>80</td>\n",
       "      <td>450</td>\n",
       "      <td>icab</td>\n",
       "    </tr>\n",
       "    <tr>\n",
       "      <th>20190616_1717_icab_icab_L_q3_open_field</th>\n",
       "      <td>18278</td>\n",
       "      <td>0</td>\n",
       "      <td>175</td>\n",
       "      <td>80</td>\n",
       "      <td>450</td>\n",
       "      <td>icab</td>\n",
       "    </tr>\n",
       "    <tr>\n",
       "      <th>20190616_1717_icab_icab_L_q4_novel_object</th>\n",
       "      <td>18278</td>\n",
       "      <td>0</td>\n",
       "      <td>175</td>\n",
       "      <td>80</td>\n",
       "      <td>450</td>\n",
       "      <td>icab</td>\n",
       "    </tr>\n",
       "    <tr>\n",
       "      <th>20190616_1717_icab_icab_L_q4_open_field</th>\n",
       "      <td>18278</td>\n",
       "      <td>0</td>\n",
       "      <td>175</td>\n",
       "      <td>80</td>\n",
       "      <td>450</td>\n",
       "      <td>icab</td>\n",
       "    </tr>\n",
       "  </tbody>\n",
       "</table>\n",
       "<p>614 rows × 6 columns</p>\n",
       "</div>"
      ],
      "text/plain": [
       "                                           vid_length  int_floor  int_ceiling  \\\n",
       "sample                                                                          \n",
       "20190611_1331_icab_icab_R_q1_novel_object       18566          0          175   \n",
       "20190611_1331_icab_icab_R_q1_open_field         18277          0          175   \n",
       "20190611_1331_icab_icab_R_q2_novel_object       18566          0          175   \n",
       "20190611_1331_icab_icab_R_q2_open_field         18277          0          175   \n",
       "20190611_1331_icab_icab_R_q3_novel_object       18566          0          175   \n",
       "...                                               ...        ...          ...   \n",
       "20190616_1717_icab_icab_L_q2_open_field         18278          0          175   \n",
       "20190616_1717_icab_icab_L_q3_novel_object       18278          0          175   \n",
       "20190616_1717_icab_icab_L_q3_open_field         18278          0          175   \n",
       "20190616_1717_icab_icab_L_q4_novel_object       18278          0          175   \n",
       "20190616_1717_icab_icab_L_q4_open_field         18278          0          175   \n",
       "\n",
       "                                           area_floor  area_ceiling test_line  \n",
       "sample                                                                         \n",
       "20190611_1331_icab_icab_R_q1_novel_object          80           450      icab  \n",
       "20190611_1331_icab_icab_R_q1_open_field            80           450      icab  \n",
       "20190611_1331_icab_icab_R_q2_novel_object          80           450      icab  \n",
       "20190611_1331_icab_icab_R_q2_open_field            80           450      icab  \n",
       "20190611_1331_icab_icab_R_q3_novel_object          80           450      icab  \n",
       "...                                               ...           ...       ...  \n",
       "20190616_1717_icab_icab_L_q2_open_field            80           450      icab  \n",
       "20190616_1717_icab_icab_L_q3_novel_object          80           450      icab  \n",
       "20190616_1717_icab_icab_L_q3_open_field            80           450      icab  \n",
       "20190616_1717_icab_icab_L_q4_novel_object          80           450      icab  \n",
       "20190616_1717_icab_icab_L_q4_open_field            80           450      icab  \n",
       "\n",
       "[614 rows x 6 columns]"
      ]
     },
     "execution_count": 26,
     "metadata": {},
     "output_type": "execute_result"
    }
   ],
   "source": [
    "samples"
   ]
  },
  {
   "cell_type": "code",
   "execution_count": null,
   "metadata": {},
   "outputs": [],
   "source": []
  },
  {
   "cell_type": "code",
   "execution_count": null,
   "metadata": {},
   "outputs": [],
   "source": [
    "for sample in "
   ]
  }
 ],
 "metadata": {
  "kernelspec": {
   "display_name": "Python 3",
   "language": "python",
   "name": "python3"
  },
  "language_info": {
   "codemirror_mode": {
    "name": "ipython",
    "version": 3
   },
   "file_extension": ".py",
   "mimetype": "text/x-python",
   "name": "python",
   "nbconvert_exporter": "python",
   "pygments_lexer": "ipython3",
   "version": "3.6.9"
  }
 },
 "nbformat": 4,
 "nbformat_minor": 4
}
